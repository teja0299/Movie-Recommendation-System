{
 "cells": [
  {
   "cell_type": "code",
   "execution_count": 1,
   "metadata": {},
   "outputs": [],
   "source": [
    "import numpy as np\n",
    "import pandas as pd\n",
    "import cloudpickle\n",
    "from sklearn.metrics.pairwise import cosine_similarity\n",
    "from fuzzywuzzy import process"
   ]
  },
  {
   "cell_type": "code",
   "execution_count": 3,
   "metadata": {},
   "outputs": [],
   "source": [
    "#loading \"model.pkl\" to get our latent dataframes\n",
    "\n",
    "with open(\"model.pkl\",\"rb\") as f:\n",
    "    latent_matrix_1_df = cloudpickle.load(f)\n",
    "    latent_matrix_2_df = cloudpickle.load(f)"
   ]
  },
  {
   "cell_type": "code",
   "execution_count": 4,
   "metadata": {},
   "outputs": [],
   "source": [
    "movies = pd.read_csv(\"movies.csv\")"
   ]
  },
  {
   "cell_type": "code",
   "execution_count": 5,
   "metadata": {},
   "outputs": [],
   "source": [
    "def fw(m):\n",
    "    temp = process.extractOne(m,movies['title'])[0]\n",
    "    a_1 = np.array(latent_matrix_1_df.loc[temp]).reshape(1,-1)\n",
    "    a_2 = np.array(latent_matrix_2_df.loc[temp]).reshape(1,-1)\n",
    "\n",
    "        # calculate the similarities of this movie with others in the list\n",
    "    score_1 = cosine_similarity(latent_matrix_1_df, a_1).reshape(-1)\n",
    "    score_2 = cosine_similarity(latent_matrix_2_df, a_2).reshape(-1)\n",
    "\n",
    "        # an average measure of both content and collaborative gives hybrid\n",
    "    hybrid = (score_1 + score_2)/2.0\n",
    "    dictDf  = {'hybrid': hybrid }\n",
    "    similar = pd.DataFrame(dictDf, index= latent_matrix_1_df.index)\n",
    "        \n",
    "        #sort it on basis of either of the three methods\n",
    "\n",
    "    similar.sort_values('hybrid',ascending=False, inplace=True)\n",
    "    similar_movies_list = list(similar.head(30).index)\n",
    "\n",
    "    return similar_movies_list"
   ]
  },
  {
   "cell_type": "code",
   "execution_count": 6,
   "metadata": {},
   "outputs": [],
   "source": [
    "def rcmd(m):\n",
    "    if m in list(movies['title']):\n",
    "        \n",
    "        a_1 = np.array(latent_matrix_1_df.loc[m]).reshape(1,-1)\n",
    "        print(a_1)\n",
    "        a_2 = np.array(latent_matrix_2_df.loc[m]).reshape(1,-1)\n",
    "\n",
    "        # calculate the similarities of this movie with others in the list\n",
    "        score_1 = cosine_similarity(latent_matrix_1_df, a_1).reshape(-1)\n",
    "        score_2 = cosine_similarity(latent_matrix_2_df, a_2).reshape(-1)\n",
    "\n",
    "        # an average measure of both content and collaborative gives hybrid\n",
    "        hybrid = (score_1 + score_2)/2.0\n",
    "        dictDf  = {'hybrid': hybrid }\n",
    "        similar = pd.DataFrame(dictDf, index= latent_matrix_1_df.index)\n",
    "        \n",
    "        #sort it on basis of either of the three methods\n",
    "\n",
    "        similar.sort_values('hybrid',ascending=False, inplace=True)\n",
    "        print(similar.size)\n",
    "        similar_movies_list = list(similar.head(10).index)\n",
    "\n",
    "        \n",
    "        return similar_movies_list\n",
    "    else:\n",
    "        return 'This movie is not in our database.\\nPlease check if you spelled it correct.'\n",
    "        \n",
    "        \n",
    "    "
   ]
  },
  {
   "cell_type": "code",
   "execution_count": 7,
   "metadata": {},
   "outputs": [
    {
     "name": "stdout",
     "output_type": "stream",
     "text": [
      "toy story\n",
      "['Toy Story (1995)', 'Toy Story 2 (1999)', \"Bug's Life, A (1998)\", 'Ratatouille (2007)', 'Monsters, Inc. (2001)', 'Ice Age (2002)', 'Finding Nemo (2003)', 'Toy Story 3 (2010)', 'Incredibles, The (2004)', 'Monsters University (2013)', 'Antz (1998)', 'Up (2009)', 'Cars (2006)', 'Toy Story That Time Forgot (2014)', 'George & A.J. (2009)', \"Red's Dream (1987)\", \"Dug's Special Mission (2009)\", \"The Legend of Mor'du (2012)\", 'Tin Toy (1988)', 'Toy Story Toons: Partysaurus Rex (2012)', 'Jack-Jack Attack (2005)', 'Shrek (2001)', 'Toy Story Toons: Small Fry (2011)', 'Mater and the Ghostlight (2006)', 'Your Friend the Rat (2007)', 'Toy Story Toons: Hawaiian Vacation (2011)', 'Knick Knack (1989)', 'Luxo Jr. (1986)', \"Boundin' (2003)\", 'Chicken Little (2005)']\n"
     ]
    }
   ],
   "source": [
    "movie_name = input()\n",
    "r = fw(movie_name)\n",
    "if type(r)==type('string'):\n",
    "    print(r)\n",
    "else:\n",
    "    print(r)"
   ]
  },
  {
   "cell_type": "code",
   "execution_count": null,
   "metadata": {},
   "outputs": [],
   "source": []
  }
 ],
 "metadata": {
  "kernelspec": {
   "display_name": "Python 3",
   "language": "python",
   "name": "python3"
  },
  "language_info": {
   "codemirror_mode": {
    "name": "ipython",
    "version": 3
   },
   "file_extension": ".py",
   "mimetype": "text/x-python",
   "name": "python",
   "nbconvert_exporter": "python",
   "pygments_lexer": "ipython3",
   "version": "3.7.4"
  }
 },
 "nbformat": 4,
 "nbformat_minor": 2
}
