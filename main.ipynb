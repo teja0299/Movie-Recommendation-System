{
 "cells": [
  {
   "cell_type": "code",
   "execution_count": 23,
   "metadata": {},
   "outputs": [],
   "source": [
    "import numpy as np\n",
    "import pandas as pd\n",
    "import cloudpickle\n",
    "from flask import Flask, render_template, request\n",
    "from sklearn.metrics.pairwise import cosine_similarity\n",
    "from fuzzywuzzy import process"
   ]
  },
  {
   "cell_type": "code",
   "execution_count": 2,
   "metadata": {},
   "outputs": [],
   "source": [
    "app = Flask(__name__)\n",
    "\n",
    "#loading \"model.pkl\" to get our latent dataframes\n",
    "\n",
    "with open(\"model.pkl\",\"rb\") as f:\n",
    "    latent_matrix_1_df = cloudpickle.load(f)\n",
    "    latent_matrix_2_df = cloudpickle.load(f)"
   ]
  },
  {
   "cell_type": "code",
   "execution_count": 3,
   "metadata": {},
   "outputs": [],
   "source": [
    "movies = pd.read_csv(\"movies.csv\")"
   ]
  },
  {
   "cell_type": "code",
   "execution_count": null,
   "metadata": {},
   "outputs": [],
   "source": [
    "def rcmd(m):\n",
    "    \n",
    "    if m not in movies['title'].unique():\n",
    "        return('This movie is not in our database.\\nPlease check if you spelled it correct.')\n",
    "        \n",
    "    else:\n",
    "        a_1 = np.array(latent_matrix_1_df.loc[m]).reshape(1,-1)\n",
    "        a_2 = np.array(latent_matrix_2_df.loc[m]).reshape(1,-1)\n",
    "\n",
    "        # calculate the similarities of this movie with others in the list\n",
    "        score_1 = cosine_similarity(latent_matrix_1_df, a_1).reshape(-1)\n",
    "        score_2 = cosine_similarity(latent_matrix_2_df, a_2).reshape(-1)\n",
    "\n",
    "        # an average measure of both content and collaborative gives hybrid\n",
    "        hybrid = (score_1 + score_2)/2.0\n",
    "        dictDf  = {'hybrid': hybrid }\n",
    "        similar = pd.DataFrame(dictDf, index= latent_matrix_1_df.index)\n",
    "        \n",
    "        #sort it on basis of either of the three methods\n",
    "\n",
    "        similar.sort_values('hybrid',ascending=False, inplace=True)\n",
    "        similar_movies_list = list(similar.head(10).index)\n",
    "\n",
    "        return similar_movies_list"
   ]
  },
  {
   "cell_type": "code",
   "execution_count": null,
   "metadata": {},
   "outputs": [],
   "source": [
    "#home page of the app\n",
    "@app.route(\"/\")\n",
    "def home():\n",
    "    return render_template('home.html')\n"
   ]
  },
  {
   "cell_type": "code",
   "execution_count": null,
   "metadata": {},
   "outputs": [],
   "source": [
    "@app.route(\"/recommend\")\n",
    "def recommend():\n",
    "    movie = request.args.get('movie')\n",
    "    r = rcmd(movie)\n",
    "    if type(r)==type('string'):\n",
    "        return render_template('recommend.html',movie=movie,r=r,t='s')\n",
    "    else:\n",
    "        return render_template('recommend.html',movie=movie,r=r,t='l')"
   ]
  },
  {
   "cell_type": "code",
   "execution_count": null,
   "metadata": {},
   "outputs": [],
   "source": [
    "if __name__ == '__main__':\n",
    "    app.run(debug=True)"
   ]
  },
  {
   "cell_type": "code",
   "execution_count": null,
   "metadata": {},
   "outputs": [],
   "source": []
  }
 ],
 "metadata": {
  "kernelspec": {
   "display_name": "Python 3",
   "language": "python",
   "name": "python3"
  },
  "language_info": {
   "codemirror_mode": {
    "name": "ipython",
    "version": 3
   },
   "file_extension": ".py",
   "mimetype": "text/x-python",
   "name": "python",
   "nbconvert_exporter": "python",
   "pygments_lexer": "ipython3",
   "version": "3.7.4"
  }
 },
 "nbformat": 4,
 "nbformat_minor": 2
}
